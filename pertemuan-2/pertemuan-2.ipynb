{
 "cells": [
  {
   "cell_type": "markdown",
   "metadata": {},
   "source": [
    "Nama: Dika Elsaputra\n",
    "\n",
    "NPM: 2320506032"
   ]
  },
  {
   "cell_type": "markdown",
   "metadata": {},
   "source": [
    "#### **Tugas 1**: Format HDFS dan jalankan dalam mode standalone. Verifikasi dengan menjalankan perintah `hadoop version`."
   ]
  },
  {
   "cell_type": "markdown",
   "metadata": {},
   "source": [
    "```bash\n",
    "hadoop version\n",
    "```"
   ]
  },
  {
   "cell_type": "markdown",
   "metadata": {},
   "source": [
    "```batch\n",
    "Hadoop 3.4.0\n",
    "Source code repository git@github.com:apache/hadoop.git -r bd8b77f398f626bb7791783192ee7a5dfaeec760\n",
    "Compiled by root on 2024-03-04T06:35Z\n",
    "Compiled on platform linux-x86_64\n",
    "Compiled with protoc 3.21.12\n",
    "From source with checksum f7fe694a3613358b38812ae9c31114e\n",
    "This command was run using /D:/hadoop-3.4.0/share/hadoop/common/hadoop-common-3.4.0.jar\n",
    "```"
   ]
  },
  {
   "cell_type": "markdown",
   "metadata": {},
   "source": [
    "#### **Tugas 2**: Buat direktori di HDFS, upload file teks, tampilkan konten file, dan hapus file tersebut."
   ]
  },
  {
   "cell_type": "markdown",
   "metadata": {},
   "source": [
    "```bash\n",
    "hdfs dfs -mkdir /user              \n",
    "hdfs dfs -mkdir /user/users/     \n",
    "echo \"hello\" > input.txt           \n",
    "hdfs dfs -put input.txt /user/users\n",
    "hdfs dfs -ls /user/users/  \n",
    "```"
   ]
  },
  {
   "cell_type": "markdown",
   "metadata": {},
   "source": [
    "#### **Tugas 3**: Lakukan operasi untuk menampilkan konten file, menduplikasi, dan menghapus file di HDFS."
   ]
  },
  {
   "cell_type": "markdown",
   "metadata": {},
   "source": [
    "```bash\n",
    "hdfs dfs -cat /user/users/input.txt          \n",
    "hdfs dfs -cp /user/users/input.txt /user/users/input_copy.txt    \n",
    "hdfs dfs -ls /user/users/                     \n",
    "hdfs dfs -rm /user/users/input_copy.txt \n",
    "hdfs dfs -ls /user/users/   \n",
    "```"
   ]
  },
  {
   "cell_type": "markdown",
   "metadata": {},
   "source": [
    "#### **Tugas 4**: Lakukan analisis pada struktur penyimpanan di HDFS dan tuliskan laporan berdasarkan hasil dari `hdfs dfsadmin -report`."
   ]
  },
  {
   "cell_type": "markdown",
   "metadata": {},
   "source": [
    "### Laporan Analisis Struktur Penyimpanan HDFS\n",
    "\n",
    "#### 1. **Kapabilitas Penyimpanan**\n",
    "- **Kapasitas Terpasang (Configured Capacity):** 141.60 GB\n",
    "- **Kapasitas Saat Ini (Present Capacity):** 106.48 GB\n",
    "  - Penurunan kapasitas ini mungkin disebabkan oleh penggunaan ruang oleh sistem atau file non-DFS.\n",
    "  \n",
    "#### 2. **Penggunaan DFS**\n",
    "- **DFS Remaining:** 106.48 GB\n",
    "- **DFS Used:** 345 B (0.00% dari kapasitas total)\n",
    "  - Penggunaan DFS sangat minim, hanya 345 B, menunjukkan bahwa sebagian besar kapasitas masih tersedia.\n",
    "\n",
    "#### 3. **Blok Tereplikasi**\n",
    "- **Blok yang Kurang Direplikasi:** 0\n",
    "- **Blok dengan Replika Rusak:** 0\n",
    "- **Blok Hilang:** 0\n",
    "- **Blok dengan Faktor Replikasi 1 yang Hilang:** 0\n",
    "- **Blok dengan Redundansi Rendah yang Memerlukan Prioritas Pemulihan:** 0\n",
    "- **Blok yang Menunggu Penghapusan:** 0\n",
    "  - Tidak ada masalah dengan replikasi blok atau kerusakan pada blok. Ini menandakan sistem dalam kondisi baik dengan tidak ada blok yang hilang atau rusak.\n",
    "\n",
    "#### 4. **Grup Blok Erasure Coded**\n",
    "- **Grup Blok dengan Redundansi Rendah:** 0\n",
    "- **Grup Blok dengan Blok Internal Rusak:** 0\n",
    "- **Grup Blok yang Hilang:** 0\n",
    "- **Grup Blok dengan Redundansi Rendah yang Memerlukan Prioritas Pemulihan:** 0\n",
    "- **Grup Blok yang Menunggu Penghapusan:** 0\n",
    "  - Seperti pada blok tereplikasi, tidak ada masalah pada grup blok erasure coded. Sistem ini tampaknya stabil tanpa adanya kegagalan atau kehilangan blok.\n",
    "\n",
    "#### 5. **Data Nodes**\n",
    "- **Jumlah Data Nodes Aktif:** 1\n",
    "  - Nama: `127.0.0.1:9866 (kubernetes.docker.internal)`\n",
    "  - Hostname: `DESKTOP-C7L4FR9`\n",
    "  - **Kapasitas Terpasang:** 141.60 GB\n",
    "  - **DFS Used:** 345 B (0.00%)\n",
    "  - **Non-DFS Used:** 35.13 GB\n",
    "  - **DFS Remaining:** 106.48 GB (75.19% dari total kapasitas)\n",
    "  - **Cache Used:** 0 B (0%)\n",
    "  - **Xceivers:** 0\n",
    "  - **Laporan Blok Terakhir:** 2 Sep 2024, 22:05:37 WIB\n",
    "  - **Jumlah Blok:** 1\n",
    "  - Data node dalam kondisi normal dan kapasitas penyimpanan DFS masih sangat tinggi dengan sebagian besar kapasitas non-DFS telah terpakai.\n",
    "\n",
    "### Kesimpulan\n",
    "- **Penggunaan HDFS**: HDFS saat ini hampir tidak digunakan (hanya 345 B dari 141.60 GB). \n",
    "- **Kondisi Blok**: Tidak ada blok yang hilang atau rusak, baik untuk blok tereplikasi maupun grup blok erasure coded.\n",
    "- **Kapasitas Non-DFS**: Sebagian besar kapasitas terpakai adalah non-DFS (35.13 GB dari total 141.60 GB).\n",
    "- **Kondisi Data Node**: Data node dalam kondisi baik, dengan 75.19% kapasitas tersisa untuk DFS.\n"
   ]
  }
 ],
 "metadata": {
  "kernelspec": {
   "display_name": "Python 3",
   "language": "python",
   "name": "python3"
  },
  "language_info": {
   "name": "python",
   "version": "3.12.0"
  }
 },
 "nbformat": 4,
 "nbformat_minor": 2
}
